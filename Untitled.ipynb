{
 "cells": [
  {
   "cell_type": "code",
   "execution_count": 1,
   "id": "8b1b2f14",
   "metadata": {},
   "outputs": [
    {
     "name": "stdout",
     "output_type": "stream",
     "text": [
      "none\n",
      "Garfield\n",
      "none\n",
      "Williams\n",
      "none\n",
      "cool\n"
     ]
    }
   ],
   "source": [
    "import re\n",
    "with open('regex_test.txt') as file:\n",
    "    data=file.readlines()\n",
    "names=re.compile('(?P<first>[A-z][a-z]+\\s)(?P<middle>[A-z][a-z]*\\s)(?P<last>[A-z][a-z]+)')\n",
    "for name in data:\n",
    "    match=names.match(name)\n",
    "    if match:\n",
    "        print(match.group('last'))\n",
    "    else:\n",
    "        print('none')"
   ]
  },
  {
   "cell_type": "code",
   "execution_count": null,
   "id": "c01d5594",
   "metadata": {},
   "outputs": [],
   "source": []
  }
 ],
 "metadata": {
  "kernelspec": {
   "display_name": "Python 3 (ipykernel)",
   "language": "python",
   "name": "python3"
  },
  "language_info": {
   "codemirror_mode": {
    "name": "ipython",
    "version": 3
   },
   "file_extension": ".py",
   "mimetype": "text/x-python",
   "name": "python",
   "nbconvert_exporter": "python",
   "pygments_lexer": "ipython3",
   "version": "3.9.7"
  }
 },
 "nbformat": 4,
 "nbformat_minor": 5
}
